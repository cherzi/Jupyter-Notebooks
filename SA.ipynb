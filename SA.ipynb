{
  "nbformat": 4,
  "nbformat_minor": 0,
  "metadata": {
    "colab": {
      "name": "SA",
      "provenance": [],
      "collapsed_sections": [],
      "authorship_tag": "ABX9TyP2EUA1YY1HDYdYLrHaUTEZ",
      "include_colab_link": true
    },
    "kernelspec": {
      "name": "python3",
      "display_name": "Python 3"
    }
  },
  "cells": [
    {
      "cell_type": "markdown",
      "metadata": {
        "id": "view-in-github",
        "colab_type": "text"
      },
      "source": [
        "<a href=\"https://colab.research.google.com/github/cherzi/Jupyter-Notebooks/blob/main/SA.ipynb\" target=\"_parent\"><img src=\"https://colab.research.google.com/assets/colab-badge.svg\" alt=\"Open In Colab\"/></a>"
      ]
    },
    {
      "cell_type": "code",
      "metadata": {
        "id": "4O8uXMPsoPDz",
        "colab": {
          "base_uri": "https://localhost:8080/",
          "height": 34
        },
        "outputId": "666c0f33-8109-4c49-e924-e5172b54cf08"
      },
      "source": [
        "# connecter le google colab au drive\n",
        "\n",
        "from google.colab import drive\n",
        "drive.mount('/content/drive')"
      ],
      "execution_count": null,
      "outputs": [
        {
          "output_type": "stream",
          "text": [
            "Mounted at /content/drive\n"
          ],
          "name": "stdout"
        }
      ]
    },
    {
      "cell_type": "code",
      "metadata": {
        "id": "pyRJ1hh0ytri"
      },
      "source": [
        "path = \"/content/drive/My Drive/Colab Notebooks/data/dataMoudjari/grid-export.csv\""
      ],
      "execution_count": null,
      "outputs": []
    },
    {
      "cell_type": "code",
      "metadata": {
        "id": "MDvShhbnzuIy"
      },
      "source": [
        "import pandas as pd\n",
        "import numpy as np\n",
        "import matplotlib.pyplot as plt\n",
        "import seaborn as sns"
      ],
      "execution_count": null,
      "outputs": []
    },
    {
      "cell_type": "code",
      "metadata": {
        "id": "PDfAjXOkzv3s"
      },
      "source": [
        "dataset = pd.read_csv(path)"
      ],
      "execution_count": null,
      "outputs": []
    },
    {
      "cell_type": "code",
      "metadata": {
        "id": "raG7E3iRz8RO",
        "colab": {
          "base_uri": "https://localhost:8080/",
          "height": 713
        },
        "outputId": "dd5ab60c-68f1-44e1-9b5a-618e2a727e77"
      },
      "source": [
        "dataset.head(10)"
      ],
      "execution_count": null,
      "outputs": [
        {
          "output_type": "execute_result",
          "data": {
            "text/html": [
              "<div>\n",
              "<style scoped>\n",
              "    .dataframe tbody tr th:only-of-type {\n",
              "        vertical-align: middle;\n",
              "    }\n",
              "\n",
              "    .dataframe tbody tr th {\n",
              "        vertical-align: top;\n",
              "    }\n",
              "\n",
              "    .dataframe thead th {\n",
              "        text-align: right;\n",
              "    }\n",
              "</style>\n",
              "<table border=\"1\" class=\"dataframe\">\n",
              "  <thead>\n",
              "    <tr style=\"text-align: right;\">\n",
              "      <th></th>\n",
              "      <th>ID</th>\n",
              "      <th>Code</th>\n",
              "      <th>Post</th>\n",
              "      <th>lang</th>\n",
              "      <th>Created At</th>\n",
              "      <th>Followers Count</th>\n",
              "      <th>Retweet Count</th>\n",
              "      <th>Profile Link Color</th>\n",
              "      <th>Geo Enabled</th>\n",
              "      <th>Screen Name</th>\n",
              "      <th>Name</th>\n",
              "      <th>Profile Lang</th>\n",
              "      <th>Polarity</th>\n",
              "      <th>Polarity Class</th>\n",
              "      <th>User Age</th>\n",
              "      <th>Emotion</th>\n",
              "      <th>Platform</th>\n",
              "    </tr>\n",
              "  </thead>\n",
              "  <tbody>\n",
              "    <tr>\n",
              "      <th>0</th>\n",
              "      <td>1</td>\n",
              "      <td>9.528348e+17</td>\n",
              "      <td>@gamehacker080 @WaellAmeer @Kempa2010 @omeralb...</td>\n",
              "      <td>ar</td>\n",
              "      <td>Mon Jan 15 09:28:13 +0000 2018</td>\n",
              "      <td>215</td>\n",
              "      <td>0</td>\n",
              "      <td>0084B4</td>\n",
              "      <td>1</td>\n",
              "      <td>JackoTyga</td>\n",
              "      <td>Amine Jacko</td>\n",
              "      <td>fr</td>\n",
              "      <td>3,57</td>\n",
              "      <td>Positive</td>\n",
              "      <td>26.0</td>\n",
              "      <td>neutre</td>\n",
              "      <td>Twitter</td>\n",
              "    </tr>\n",
              "    <tr>\n",
              "      <th>1</th>\n",
              "      <td>2</td>\n",
              "      <td>9.528348e+17</td>\n",
              "      <td>@arar12332095361 صل الله عليه و سلم</td>\n",
              "      <td>ar</td>\n",
              "      <td>Mon Jan 15 09:28:01 +0000 2018</td>\n",
              "      <td>1682</td>\n",
              "      <td>0</td>\n",
              "      <td>19CF86</td>\n",
              "      <td>1</td>\n",
              "      <td>aminoooo_amine</td>\n",
              "      <td>Amine Bourahla</td>\n",
              "      <td>fr</td>\n",
              "      <td>7,29</td>\n",
              "      <td>Positive</td>\n",
              "      <td>26.0</td>\n",
              "      <td>joie</td>\n",
              "      <td>Twitter</td>\n",
              "    </tr>\n",
              "    <tr>\n",
              "      <th>2</th>\n",
              "      <td>3</td>\n",
              "      <td>9.528346e+17</td>\n",
              "      <td>@SRKFC1 @iamsrk @gaurikhan 💖💖💖💖💖💖 https://t.co...</td>\n",
              "      <td>und</td>\n",
              "      <td>Mon Jan 15 09:27:35 +0000 2018</td>\n",
              "      <td>114</td>\n",
              "      <td>0</td>\n",
              "      <td>1DA1F2</td>\n",
              "      <td>1</td>\n",
              "      <td>FoufaKiri</td>\n",
              "      <td>Foufa kiri</td>\n",
              "      <td>fr</td>\n",
              "      <td>3,50</td>\n",
              "      <td>Positive</td>\n",
              "      <td>NaN</td>\n",
              "      <td>NaN</td>\n",
              "      <td>Twitter</td>\n",
              "    </tr>\n",
              "    <tr>\n",
              "      <th>3</th>\n",
              "      <td>4</td>\n",
              "      <td>9.528346e+17</td>\n",
              "      <td>.@realDonaldTrump YOU did this you started it!...</td>\n",
              "      <td>en</td>\n",
              "      <td>Mon Jan 15 09:27:21 +0000 2018</td>\n",
              "      <td>5367</td>\n",
              "      <td>0</td>\n",
              "      <td>E81C4F</td>\n",
              "      <td>1</td>\n",
              "      <td>Spartanise</td>\n",
              "      <td>Spartanise</td>\n",
              "      <td>en</td>\n",
              "      <td>-7,29</td>\n",
              "      <td>Negative</td>\n",
              "      <td>NaN</td>\n",
              "      <td>NaN</td>\n",
              "      <td>Twitter</td>\n",
              "    </tr>\n",
              "    <tr>\n",
              "      <th>4</th>\n",
              "      <td>5</td>\n",
              "      <td>9.528341e+17</td>\n",
              "      <td>وقال: \" ... وعليهم *أَنْ يكونوا على يقظةٍ* مِن...</td>\n",
              "      <td>ar</td>\n",
              "      <td>Mon Jan 15 09:25:15 +0000 2018</td>\n",
              "      <td>135</td>\n",
              "      <td>0</td>\n",
              "      <td>1DA1F2</td>\n",
              "      <td>1</td>\n",
              "      <td>GhanayK</td>\n",
              "      <td>أبو العباس كريم</td>\n",
              "      <td>ar</td>\n",
              "      <td>-3,57</td>\n",
              "      <td>Negative</td>\n",
              "      <td>NaN</td>\n",
              "      <td>NaN</td>\n",
              "      <td>Twitter</td>\n",
              "    </tr>\n",
              "    <tr>\n",
              "      <th>5</th>\n",
              "      <td>6</td>\n",
              "      <td>9.528340e+17</td>\n",
              "      <td>🌴🌴 *إحذر من المندسين*🌴\\n\\n⬅ قال الشيخ العلامة ...</td>\n",
              "      <td>ar</td>\n",
              "      <td>Mon Jan 15 09:24:57 +0000 2018</td>\n",
              "      <td>135</td>\n",
              "      <td>0</td>\n",
              "      <td>1DA1F2</td>\n",
              "      <td>1</td>\n",
              "      <td>GhanayK</td>\n",
              "      <td>أبو العباس كريم</td>\n",
              "      <td>ar</td>\n",
              "      <td>-1,40</td>\n",
              "      <td>Negative</td>\n",
              "      <td>NaN</td>\n",
              "      <td>tristesse</td>\n",
              "      <td>Twitter</td>\n",
              "    </tr>\n",
              "    <tr>\n",
              "      <th>6</th>\n",
              "      <td>7</td>\n",
              "      <td>9.528339e+17</td>\n",
              "      <td>@DabbooRatnani @iamsrk @ManishaDRatnani @Dabbo...</td>\n",
              "      <td>und</td>\n",
              "      <td>Mon Jan 15 09:24:36 +0000 2018</td>\n",
              "      <td>114</td>\n",
              "      <td>0</td>\n",
              "      <td>1DA1F2</td>\n",
              "      <td>1</td>\n",
              "      <td>FoufaKiri</td>\n",
              "      <td>Foufa kiri</td>\n",
              "      <td>fr</td>\n",
              "      <td>-7,00</td>\n",
              "      <td>Negative</td>\n",
              "      <td>NaN</td>\n",
              "      <td>NaN</td>\n",
              "      <td>Twitter</td>\n",
              "    </tr>\n",
              "    <tr>\n",
              "      <th>7</th>\n",
              "      <td>8</td>\n",
              "      <td>9.528336e+17</td>\n",
              "      <td>@Imad78317250 إيه يا أخي عماد صحيح من قال عند ...</td>\n",
              "      <td>ar</td>\n",
              "      <td>Mon Jan 15 09:23:21 +0000 2018</td>\n",
              "      <td>1721</td>\n",
              "      <td>0</td>\n",
              "      <td>1DA1F2</td>\n",
              "      <td>1</td>\n",
              "      <td>abouabdalahalmi</td>\n",
              "      <td>سعيد بن أحمد حيدوش</td>\n",
              "      <td>ar</td>\n",
              "      <td>-5,86</td>\n",
              "      <td>Negative</td>\n",
              "      <td>NaN</td>\n",
              "      <td>NaN</td>\n",
              "      <td>Twitter</td>\n",
              "    </tr>\n",
              "    <tr>\n",
              "      <th>8</th>\n",
              "      <td>9</td>\n",
              "      <td>9.528330e+17</td>\n",
              "      <td>https://t.co/GvubnBx8ET</td>\n",
              "      <td>und</td>\n",
              "      <td>Mon Jan 15 09:21:09 +0000 2018</td>\n",
              "      <td>135</td>\n",
              "      <td>0</td>\n",
              "      <td>1DA1F2</td>\n",
              "      <td>1</td>\n",
              "      <td>GhanayK</td>\n",
              "      <td>أبو العباس كريم</td>\n",
              "      <td>ar</td>\n",
              "      <td>0,00</td>\n",
              "      <td>Neutral</td>\n",
              "      <td>NaN</td>\n",
              "      <td>neutre</td>\n",
              "      <td>Twitter</td>\n",
              "    </tr>\n",
              "    <tr>\n",
              "      <th>9</th>\n",
              "      <td>10</td>\n",
              "      <td>9.528354e+17</td>\n",
              "      <td>@AmoonMua @juniorbachchan  https://t.co/3jV3j1...</td>\n",
              "      <td>und</td>\n",
              "      <td>Mon Jan 15 09:30:31 +0000 2018</td>\n",
              "      <td>114</td>\n",
              "      <td>0</td>\n",
              "      <td>1DA1F2</td>\n",
              "      <td>1</td>\n",
              "      <td>FoufaKiri</td>\n",
              "      <td>Foufa kiri</td>\n",
              "      <td>fr</td>\n",
              "      <td>0,00</td>\n",
              "      <td>Neutral</td>\n",
              "      <td>NaN</td>\n",
              "      <td>neutre</td>\n",
              "      <td>Twitter</td>\n",
              "    </tr>\n",
              "  </tbody>\n",
              "</table>\n",
              "</div>"
            ],
            "text/plain": [
              "   ID          Code  ...    Emotion Platform\n",
              "0   1  9.528348e+17  ...     neutre  Twitter\n",
              "1   2  9.528348e+17  ...       joie  Twitter\n",
              "2   3  9.528346e+17  ...        NaN  Twitter\n",
              "3   4  9.528346e+17  ...        NaN  Twitter\n",
              "4   5  9.528341e+17  ...        NaN  Twitter\n",
              "5   6  9.528340e+17  ...  tristesse  Twitter\n",
              "6   7  9.528339e+17  ...        NaN  Twitter\n",
              "7   8  9.528336e+17  ...        NaN  Twitter\n",
              "8   9  9.528330e+17  ...     neutre  Twitter\n",
              "9  10  9.528354e+17  ...     neutre  Twitter\n",
              "\n",
              "[10 rows x 17 columns]"
            ]
          },
          "metadata": {
            "tags": []
          },
          "execution_count": 108
        }
      ]
    },
    {
      "cell_type": "code",
      "metadata": {
        "id": "7lhf-4dc3xt3",
        "colab": {
          "base_uri": "https://localhost:8080/",
          "height": 284
        },
        "outputId": "b9ccfafb-ad39-413a-c01b-ceb65efd86b8"
      },
      "source": [
        "dataset.describe()"
      ],
      "execution_count": null,
      "outputs": [
        {
          "output_type": "execute_result",
          "data": {
            "text/html": [
              "<div>\n",
              "<style scoped>\n",
              "    .dataframe tbody tr th:only-of-type {\n",
              "        vertical-align: middle;\n",
              "    }\n",
              "\n",
              "    .dataframe tbody tr th {\n",
              "        vertical-align: top;\n",
              "    }\n",
              "\n",
              "    .dataframe thead th {\n",
              "        text-align: right;\n",
              "    }\n",
              "</style>\n",
              "<table border=\"1\" class=\"dataframe\">\n",
              "  <thead>\n",
              "    <tr style=\"text-align: right;\">\n",
              "      <th></th>\n",
              "      <th>ID</th>\n",
              "      <th>Code</th>\n",
              "      <th>Followers Count</th>\n",
              "      <th>Retweet Count</th>\n",
              "      <th>Geo Enabled</th>\n",
              "      <th>User Age</th>\n",
              "    </tr>\n",
              "  </thead>\n",
              "  <tbody>\n",
              "    <tr>\n",
              "      <th>count</th>\n",
              "      <td>6852.000000</td>\n",
              "      <td>6.852000e+03</td>\n",
              "      <td>6852.000000</td>\n",
              "      <td>6852.000000</td>\n",
              "      <td>6852.0</td>\n",
              "      <td>67.000000</td>\n",
              "    </tr>\n",
              "    <tr>\n",
              "      <th>mean</th>\n",
              "      <td>6208.083041</td>\n",
              "      <td>1.029333e+18</td>\n",
              "      <td>2132.289696</td>\n",
              "      <td>0.042469</td>\n",
              "      <td>1.0</td>\n",
              "      <td>28.985075</td>\n",
              "    </tr>\n",
              "    <tr>\n",
              "      <th>std</th>\n",
              "      <td>17141.881196</td>\n",
              "      <td>3.897313e+16</td>\n",
              "      <td>11017.651122</td>\n",
              "      <td>0.250132</td>\n",
              "      <td>0.0</td>\n",
              "      <td>8.878801</td>\n",
              "    </tr>\n",
              "    <tr>\n",
              "      <th>min</th>\n",
              "      <td>1.000000</td>\n",
              "      <td>9.528330e+17</td>\n",
              "      <td>0.000000</td>\n",
              "      <td>0.000000</td>\n",
              "      <td>1.0</td>\n",
              "      <td>16.000000</td>\n",
              "    </tr>\n",
              "    <tr>\n",
              "      <th>25%</th>\n",
              "      <td>1713.750000</td>\n",
              "      <td>1.035912e+18</td>\n",
              "      <td>62.000000</td>\n",
              "      <td>0.000000</td>\n",
              "      <td>1.0</td>\n",
              "      <td>26.000000</td>\n",
              "    </tr>\n",
              "    <tr>\n",
              "      <th>50%</th>\n",
              "      <td>3426.500000</td>\n",
              "      <td>1.046078e+18</td>\n",
              "      <td>371.000000</td>\n",
              "      <td>0.000000</td>\n",
              "      <td>1.0</td>\n",
              "      <td>26.000000</td>\n",
              "    </tr>\n",
              "    <tr>\n",
              "      <th>75%</th>\n",
              "      <td>5139.250000</td>\n",
              "      <td>1.047029e+18</td>\n",
              "      <td>1026.000000</td>\n",
              "      <td>0.000000</td>\n",
              "      <td>1.0</td>\n",
              "      <td>36.000000</td>\n",
              "    </tr>\n",
              "    <tr>\n",
              "      <th>max</th>\n",
              "      <td>138084.000000</td>\n",
              "      <td>1.118502e+18</td>\n",
              "      <td>335800.000000</td>\n",
              "      <td>7.000000</td>\n",
              "      <td>1.0</td>\n",
              "      <td>56.000000</td>\n",
              "    </tr>\n",
              "  </tbody>\n",
              "</table>\n",
              "</div>"
            ],
            "text/plain": [
              "                  ID          Code  ...  Geo Enabled   User Age\n",
              "count    6852.000000  6.852000e+03  ...       6852.0  67.000000\n",
              "mean     6208.083041  1.029333e+18  ...          1.0  28.985075\n",
              "std     17141.881196  3.897313e+16  ...          0.0   8.878801\n",
              "min         1.000000  9.528330e+17  ...          1.0  16.000000\n",
              "25%      1713.750000  1.035912e+18  ...          1.0  26.000000\n",
              "50%      3426.500000  1.046078e+18  ...          1.0  26.000000\n",
              "75%      5139.250000  1.047029e+18  ...          1.0  36.000000\n",
              "max    138084.000000  1.118502e+18  ...          1.0  56.000000\n",
              "\n",
              "[8 rows x 6 columns]"
            ]
          },
          "metadata": {
            "tags": []
          },
          "execution_count": 41
        }
      ]
    },
    {
      "cell_type": "code",
      "metadata": {
        "id": "f-Zja7ia4XUJ"
      },
      "source": [
        "dataset=dataset.drop(['Created At','Followers Count', 'Retweet Count', 'Profile Link Color', 'Geo Enabled', 'Screen Name', 'Name', 'User Age', 'Platform', 'Profile Lang'],axis=1)"
      ],
      "execution_count": null,
      "outputs": []
    },
    {
      "cell_type": "code",
      "metadata": {
        "id": "mZdD5v5M5M5t",
        "colab": {
          "base_uri": "https://localhost:8080/",
          "height": 195
        },
        "outputId": "068deef2-26d0-4dc4-bf95-6ee419330e9c"
      },
      "source": [
        "dataset.head(5)"
      ],
      "execution_count": null,
      "outputs": [
        {
          "output_type": "execute_result",
          "data": {
            "text/html": [
              "<div>\n",
              "<style scoped>\n",
              "    .dataframe tbody tr th:only-of-type {\n",
              "        vertical-align: middle;\n",
              "    }\n",
              "\n",
              "    .dataframe tbody tr th {\n",
              "        vertical-align: top;\n",
              "    }\n",
              "\n",
              "    .dataframe thead th {\n",
              "        text-align: right;\n",
              "    }\n",
              "</style>\n",
              "<table border=\"1\" class=\"dataframe\">\n",
              "  <thead>\n",
              "    <tr style=\"text-align: right;\">\n",
              "      <th></th>\n",
              "      <th>ID</th>\n",
              "      <th>Code</th>\n",
              "      <th>Post</th>\n",
              "      <th>lang</th>\n",
              "      <th>Polarity</th>\n",
              "      <th>Polarity Class</th>\n",
              "      <th>Emotion</th>\n",
              "    </tr>\n",
              "  </thead>\n",
              "  <tbody>\n",
              "    <tr>\n",
              "      <th>0</th>\n",
              "      <td>1</td>\n",
              "      <td>9.528348e+17</td>\n",
              "      <td>@gamehacker080 @WaellAmeer @Kempa2010 @omeralb...</td>\n",
              "      <td>ar</td>\n",
              "      <td>3,57</td>\n",
              "      <td>Positive</td>\n",
              "      <td>neutre</td>\n",
              "    </tr>\n",
              "    <tr>\n",
              "      <th>1</th>\n",
              "      <td>2</td>\n",
              "      <td>9.528348e+17</td>\n",
              "      <td>@arar12332095361 صل الله عليه و سلم</td>\n",
              "      <td>ar</td>\n",
              "      <td>7,29</td>\n",
              "      <td>Positive</td>\n",
              "      <td>joie</td>\n",
              "    </tr>\n",
              "    <tr>\n",
              "      <th>2</th>\n",
              "      <td>3</td>\n",
              "      <td>9.528346e+17</td>\n",
              "      <td>@SRKFC1 @iamsrk @gaurikhan 💖💖💖💖💖💖 https://t.co...</td>\n",
              "      <td>und</td>\n",
              "      <td>3,50</td>\n",
              "      <td>Positive</td>\n",
              "      <td>NaN</td>\n",
              "    </tr>\n",
              "    <tr>\n",
              "      <th>3</th>\n",
              "      <td>4</td>\n",
              "      <td>9.528346e+17</td>\n",
              "      <td>.@realDonaldTrump YOU did this you started it!...</td>\n",
              "      <td>en</td>\n",
              "      <td>-7,29</td>\n",
              "      <td>Negative</td>\n",
              "      <td>NaN</td>\n",
              "    </tr>\n",
              "    <tr>\n",
              "      <th>4</th>\n",
              "      <td>5</td>\n",
              "      <td>9.528341e+17</td>\n",
              "      <td>وقال: \" ... وعليهم *أَنْ يكونوا على يقظةٍ* مِن...</td>\n",
              "      <td>ar</td>\n",
              "      <td>-3,57</td>\n",
              "      <td>Negative</td>\n",
              "      <td>NaN</td>\n",
              "    </tr>\n",
              "  </tbody>\n",
              "</table>\n",
              "</div>"
            ],
            "text/plain": [
              "   ID          Code  ... Polarity Class Emotion\n",
              "0   1  9.528348e+17  ...       Positive  neutre\n",
              "1   2  9.528348e+17  ...       Positive    joie\n",
              "2   3  9.528346e+17  ...       Positive     NaN\n",
              "3   4  9.528346e+17  ...       Negative     NaN\n",
              "4   5  9.528341e+17  ...       Negative     NaN\n",
              "\n",
              "[5 rows x 7 columns]"
            ]
          },
          "metadata": {
            "tags": []
          },
          "execution_count": 110
        }
      ]
    },
    {
      "cell_type": "code",
      "metadata": {
        "id": "Q5nLDHWCAwxa",
        "colab": {
          "base_uri": "https://localhost:8080/",
          "height": 185
        },
        "outputId": "971f0617-155a-4528-d53e-61a83ae3256a"
      },
      "source": [
        "pip install emoji --upgrade"
      ],
      "execution_count": null,
      "outputs": [
        {
          "output_type": "stream",
          "text": [
            "Collecting emoji\n",
            "\u001b[?25l  Downloading https://files.pythonhosted.org/packages/ff/1c/1f1457fe52d0b30cbeebfd578483cedb3e3619108d2d5a21380dfecf8ffd/emoji-0.6.0.tar.gz (51kB)\n",
            "\r\u001b[K     |██████▍                         | 10kB 18.5MB/s eta 0:00:01\r\u001b[K     |████████████▉                   | 20kB 5.7MB/s eta 0:00:01\r\u001b[K     |███████████████████▎            | 30kB 5.5MB/s eta 0:00:01\r\u001b[K     |█████████████████████████▊      | 40kB 6.6MB/s eta 0:00:01\r\u001b[K     |████████████████████████████████| 51kB 3.1MB/s \n",
            "\u001b[?25hBuilding wheels for collected packages: emoji\n",
            "  Building wheel for emoji (setup.py) ... \u001b[?25l\u001b[?25hdone\n",
            "  Created wheel for emoji: filename=emoji-0.6.0-cp36-none-any.whl size=49716 sha256=ccf65d594fc40289647ee03ae10db48647efefc9a702cf9d754742acc8bd1bc8\n",
            "  Stored in directory: /root/.cache/pip/wheels/46/2c/8b/9dcf5216ca68e14e0320e283692dce8ae321cdc01e73e17796\n",
            "Successfully built emoji\n",
            "Installing collected packages: emoji\n",
            "Successfully installed emoji-0.6.0\n"
          ],
          "name": "stdout"
        }
      ]
    },
    {
      "cell_type": "code",
      "metadata": {
        "id": "E1xpzWYLEsp9"
      },
      "source": [
        "dataset['Post']=dataset['Post'].str.replace('(@\\w+.*?)',\"\")"
      ],
      "execution_count": null,
      "outputs": []
    },
    {
      "cell_type": "code",
      "metadata": {
        "id": "6NZbWUCjFcIE",
        "colab": {
          "base_uri": "https://localhost:8080/",
          "height": 202
        },
        "outputId": "4f5b28c3-4bc7-4b05-dc92-354d690b1bf3"
      },
      "source": [
        "dataset['Post'].head(10)"
      ],
      "execution_count": null,
      "outputs": [
        {
          "output_type": "execute_result",
          "data": {
            "text/plain": [
              "0                                                   تم\n",
              "1                                   صل الله عليه و سلم\n",
              "2                       💖💖💖💖💖💖 https://t.co/0DwWeTr7ZK\n",
              "3    . YOU did this you started it! discustinggng b...\n",
              "4    وقال: \" ... وعليهم *أَنْ يكونوا على يقظةٍ* مِن...\n",
              "5    🌴🌴 *إحذر من المندسين*🌴\\n\\n⬅ قال الشيخ العلامة ...\n",
              "6                      😕😘😘😘😘😘😘 https://t.co/Xt0HqaUrKU\n",
              "7     إيه يا أخي عماد صحيح من قال عند الفتن تطيش ال...\n",
              "8                              https://t.co/GvubnBx8ET\n",
              "9                              https://t.co/3jV3j1DX6A\n",
              "Name: Post, dtype: object"
            ]
          },
          "metadata": {
            "tags": []
          },
          "execution_count": 8
        }
      ]
    },
    {
      "cell_type": "code",
      "metadata": {
        "id": "70nHPFP0Fd2f"
      },
      "source": [
        "dataset['Post'] = dataset['Post'].str.replace('http\\S+|www.\\S+', '', case=False)"
      ],
      "execution_count": null,
      "outputs": []
    },
    {
      "cell_type": "code",
      "metadata": {
        "id": "-1bY6RYrIgXG",
        "colab": {
          "base_uri": "https://localhost:8080/",
          "height": 202
        },
        "outputId": "03780e4f-eaa6-46e6-d098-a5cd0375058d"
      },
      "source": [
        "dataset['Post'].head(10)"
      ],
      "execution_count": null,
      "outputs": [
        {
          "output_type": "execute_result",
          "data": {
            "text/plain": [
              "0                                                   تم\n",
              "1                                   صل الله عليه و سلم\n",
              "2                                              💖💖💖💖💖💖 \n",
              "3    . YOU did this you started it! discustinggng b...\n",
              "4    وقال: \" ... وعليهم *أَنْ يكونوا على يقظةٍ* مِن...\n",
              "5    🌴🌴 *إحذر من المندسين*🌴\\n\\n⬅ قال الشيخ العلامة ...\n",
              "6                                             😕😘😘😘😘😘😘 \n",
              "7     إيه يا أخي عماد صحيح من قال عند الفتن تطيش ال...\n",
              "8                                                     \n",
              "9                                                     \n",
              "Name: Post, dtype: object"
            ]
          },
          "metadata": {
            "tags": []
          },
          "execution_count": 11
        }
      ]
    },
    {
      "cell_type": "code",
      "metadata": {
        "id": "p72tA41CIiVe"
      },
      "source": [
        "dataset['Post'] = dataset['Post'].str.replace('.co\\S+', '', case=False)"
      ],
      "execution_count": null,
      "outputs": []
    },
    {
      "cell_type": "code",
      "metadata": {
        "id": "WC6ToikPJR2D",
        "colab": {
          "base_uri": "https://localhost:8080/",
          "height": 202
        },
        "outputId": "8b11c061-e3bb-4402-f23b-09cccb5a21d3"
      },
      "source": [
        "dataset['Post'].head(10)"
      ],
      "execution_count": null,
      "outputs": [
        {
          "output_type": "execute_result",
          "data": {
            "text/plain": [
              "0                                                   تم\n",
              "1                                   صل الله عليه و سلم\n",
              "2                                              💖💖💖💖💖💖 \n",
              "3    . YOU did this you started it! discustinggng b...\n",
              "4    وقال: \" ... وعليهم *أَنْ يكونوا على يقظةٍ* مِن...\n",
              "5    🌴🌴 *إحذر من المندسين*🌴\\n\\n⬅ قال الشيخ العلامة ...\n",
              "6                                             😕😘😘😘😘😘😘 \n",
              "7     إيه يا أخي عماد صحيح من قال عند الفتن تطيش ال...\n",
              "8                                                     \n",
              "9                                                     \n",
              "Name: Post, dtype: object"
            ]
          },
          "metadata": {
            "tags": []
          },
          "execution_count": 116
        }
      ]
    },
    {
      "cell_type": "code",
      "metadata": {
        "id": "JwrUceBDJTNO"
      },
      "source": [
        "dataset['Post'].replace('', np.nan, inplace=True)"
      ],
      "execution_count": null,
      "outputs": []
    },
    {
      "cell_type": "code",
      "metadata": {
        "id": "afIaS9OyKj6A",
        "colab": {
          "base_uri": "https://localhost:8080/",
          "height": 202
        },
        "outputId": "0703b8d5-6ed8-420b-d2cb-cfae7f8be8b7"
      },
      "source": [
        "dataset['Post'].head(10)"
      ],
      "execution_count": null,
      "outputs": [
        {
          "output_type": "execute_result",
          "data": {
            "text/plain": [
              "0                                                   تم\n",
              "1                                   صل الله عليه و سلم\n",
              "2                                              💖💖💖💖💖💖 \n",
              "3    . YOU did this you started it! discustinggng b...\n",
              "4    وقال: \" ... وعليهم *أَنْ يكونوا على يقظةٍ* مِن...\n",
              "5    🌴🌴 *إحذر من المندسين*🌴\\n\\n⬅ قال الشيخ العلامة ...\n",
              "6                                             😕😘😘😘😘😘😘 \n",
              "7     إيه يا أخي عماد صحيح من قال عند الفتن تطيش ال...\n",
              "8                                                  NaN\n",
              "9                                                     \n",
              "Name: Post, dtype: object"
            ]
          },
          "metadata": {
            "tags": []
          },
          "execution_count": 118
        }
      ]
    },
    {
      "cell_type": "code",
      "metadata": {
        "id": "6QY1uaT2LYNW",
        "colab": {
          "base_uri": "https://localhost:8080/",
          "height": 252
        },
        "outputId": "31994c02-c31a-48c9-9665-3a14bca99413"
      },
      "source": [
        "dataset.count"
      ],
      "execution_count": null,
      "outputs": [
        {
          "output_type": "execute_result",
          "data": {
            "text/plain": [
              "<bound method DataFrame.count of           ID          Code  ... Polarity Class    Emotion\n",
              "0          1  9.528348e+17  ...       Positive     neutre\n",
              "1          2  9.528348e+17  ...       Positive       joie\n",
              "2          3  9.528346e+17  ...       Positive        NaN\n",
              "3          4  9.528346e+17  ...       Negative        NaN\n",
              "4          5  9.528341e+17  ...       Negative        NaN\n",
              "...      ...           ...  ...            ...        ...\n",
              "6847  137691  1.114593e+18  ...        Neutral   surprise\n",
              "6848  137868  1.114652e+18  ...        Neutral       joie\n",
              "6849  137877  1.114655e+18  ...        Neutral  tristesse\n",
              "6850  138060  1.118495e+18  ...        Neutral     colère\n",
              "6851  138084  1.118502e+18  ...        Neutral     dégoût\n",
              "\n",
              "[6852 rows x 7 columns]>"
            ]
          },
          "metadata": {
            "tags": []
          },
          "execution_count": 119
        }
      ]
    },
    {
      "cell_type": "code",
      "metadata": {
        "id": "5R8wTow6KlvL"
      },
      "source": [
        "dataset.dropna(subset = ['Post'], inplace=True)"
      ],
      "execution_count": null,
      "outputs": []
    },
    {
      "cell_type": "code",
      "metadata": {
        "id": "4iL9pXbOLg_x",
        "colab": {
          "base_uri": "https://localhost:8080/",
          "height": 252
        },
        "outputId": "23d4451e-c977-4ead-941b-55d9a9f16f9d"
      },
      "source": [
        "dataset.count"
      ],
      "execution_count": null,
      "outputs": [
        {
          "output_type": "execute_result",
          "data": {
            "text/plain": [
              "<bound method DataFrame.count of           ID          Code  ... Polarity Class    Emotion\n",
              "0          1  9.528348e+17  ...       Positive     neutre\n",
              "1          2  9.528348e+17  ...       Positive       joie\n",
              "2          3  9.528346e+17  ...       Positive        NaN\n",
              "3          4  9.528346e+17  ...       Negative        NaN\n",
              "4          5  9.528341e+17  ...       Negative        NaN\n",
              "...      ...           ...  ...            ...        ...\n",
              "6847  137691  1.114593e+18  ...        Neutral   surprise\n",
              "6848  137868  1.114652e+18  ...        Neutral       joie\n",
              "6849  137877  1.114655e+18  ...        Neutral  tristesse\n",
              "6850  138060  1.118495e+18  ...        Neutral     colère\n",
              "6851  138084  1.118502e+18  ...        Neutral     dégoût\n",
              "\n",
              "[6294 rows x 7 columns]>"
            ]
          },
          "metadata": {
            "tags": []
          },
          "execution_count": 121
        }
      ]
    },
    {
      "cell_type": "code",
      "metadata": {
        "id": "N4N88O8RPYpz",
        "colab": {
          "base_uri": "https://localhost:8080/",
          "height": 252
        },
        "outputId": "6b21b4b1-9155-4203-e93a-8231b64afc12"
      },
      "source": [
        "dataset['Post'].replace(' ', np.nan, inplace=True)\n",
        "dataset.dropna(subset = ['Post'], inplace=True)\n",
        "dataset.count"
      ],
      "execution_count": null,
      "outputs": [
        {
          "output_type": "execute_result",
          "data": {
            "text/plain": [
              "<bound method DataFrame.count of           ID          Code  ... Polarity Class    Emotion\n",
              "0          1  9.528348e+17  ...       Positive     neutre\n",
              "1          2  9.528348e+17  ...       Positive       joie\n",
              "2          3  9.528346e+17  ...       Positive        NaN\n",
              "3          4  9.528346e+17  ...       Negative        NaN\n",
              "4          5  9.528341e+17  ...       Negative        NaN\n",
              "...      ...           ...  ...            ...        ...\n",
              "6847  137691  1.114593e+18  ...        Neutral   surprise\n",
              "6848  137868  1.114652e+18  ...        Neutral       joie\n",
              "6849  137877  1.114655e+18  ...        Neutral  tristesse\n",
              "6850  138060  1.118495e+18  ...        Neutral     colère\n",
              "6851  138084  1.118502e+18  ...        Neutral     dégoût\n",
              "\n",
              "[6078 rows x 7 columns]>"
            ]
          },
          "metadata": {
            "tags": []
          },
          "execution_count": 17
        }
      ]
    },
    {
      "cell_type": "code",
      "metadata": {
        "id": "gFNi9rXeL_ql",
        "colab": {
          "base_uri": "https://localhost:8080/",
          "height": 34
        },
        "outputId": "30705216-b1dc-40d0-a764-6a5e62a591dd"
      },
      "source": [
        "# Checker le nombre se NaN dans la colonne Emotion, si petit, les remplacer par neutre\n",
        "\n",
        "dataset['Emotion'].isnull().sum(axis = 0)"
      ],
      "execution_count": null,
      "outputs": [
        {
          "output_type": "execute_result",
          "data": {
            "text/plain": [
              "4863"
            ]
          },
          "metadata": {
            "tags": []
          },
          "execution_count": 18
        }
      ]
    },
    {
      "cell_type": "code",
      "metadata": {
        "id": "Y2lufQScMiCa"
      },
      "source": [
        "# Trop de Nan dans emotion, enlever la colonne\n",
        "\n",
        "dataset=dataset.drop(['Emotion'],axis=1)"
      ],
      "execution_count": null,
      "outputs": []
    },
    {
      "cell_type": "code",
      "metadata": {
        "id": "ty6uJ9HSM-aO"
      },
      "source": [
        "# Enlever les lignes où le texte n'est pas en arabe\n",
        "\n",
        "dataset = dataset[dataset.lang == 'ar']"
      ],
      "execution_count": null,
      "outputs": []
    },
    {
      "cell_type": "code",
      "metadata": {
        "id": "L_1Qcy8tNz7V",
        "colab": {
          "base_uri": "https://localhost:8080/",
          "height": 343
        },
        "outputId": "06bfd203-2ce0-4ef2-ff0c-f050b18e25ca"
      },
      "source": [
        "dataset.head(10)"
      ],
      "execution_count": null,
      "outputs": [
        {
          "output_type": "execute_result",
          "data": {
            "text/html": [
              "<div>\n",
              "<style scoped>\n",
              "    .dataframe tbody tr th:only-of-type {\n",
              "        vertical-align: middle;\n",
              "    }\n",
              "\n",
              "    .dataframe tbody tr th {\n",
              "        vertical-align: top;\n",
              "    }\n",
              "\n",
              "    .dataframe thead th {\n",
              "        text-align: right;\n",
              "    }\n",
              "</style>\n",
              "<table border=\"1\" class=\"dataframe\">\n",
              "  <thead>\n",
              "    <tr style=\"text-align: right;\">\n",
              "      <th></th>\n",
              "      <th>ID</th>\n",
              "      <th>Code</th>\n",
              "      <th>Post</th>\n",
              "      <th>lang</th>\n",
              "      <th>Polarity</th>\n",
              "      <th>Polarity Class</th>\n",
              "    </tr>\n",
              "  </thead>\n",
              "  <tbody>\n",
              "    <tr>\n",
              "      <th>0</th>\n",
              "      <td>1</td>\n",
              "      <td>9.528348e+17</td>\n",
              "      <td>تم</td>\n",
              "      <td>ar</td>\n",
              "      <td>3,57</td>\n",
              "      <td>Positive</td>\n",
              "    </tr>\n",
              "    <tr>\n",
              "      <th>1</th>\n",
              "      <td>2</td>\n",
              "      <td>9.528348e+17</td>\n",
              "      <td>صل الله عليه و سلم</td>\n",
              "      <td>ar</td>\n",
              "      <td>7,29</td>\n",
              "      <td>Positive</td>\n",
              "    </tr>\n",
              "    <tr>\n",
              "      <th>4</th>\n",
              "      <td>5</td>\n",
              "      <td>9.528341e+17</td>\n",
              "      <td>وقال: \" ... وعليهم *أَنْ يكونوا على يقظةٍ* مِن...</td>\n",
              "      <td>ar</td>\n",
              "      <td>-3,57</td>\n",
              "      <td>Negative</td>\n",
              "    </tr>\n",
              "    <tr>\n",
              "      <th>5</th>\n",
              "      <td>6</td>\n",
              "      <td>9.528340e+17</td>\n",
              "      <td>🌴🌴 *إحذر من المندسين*🌴\\n\\n⬅ قال الشيخ العلامة ...</td>\n",
              "      <td>ar</td>\n",
              "      <td>-1,40</td>\n",
              "      <td>Negative</td>\n",
              "    </tr>\n",
              "    <tr>\n",
              "      <th>7</th>\n",
              "      <td>8</td>\n",
              "      <td>9.528336e+17</td>\n",
              "      <td>إيه يا أخي عماد صحيح من قال عند الفتن تطيش ال...</td>\n",
              "      <td>ar</td>\n",
              "      <td>-5,86</td>\n",
              "      <td>Negative</td>\n",
              "    </tr>\n",
              "    <tr>\n",
              "      <th>12</th>\n",
              "      <td>13</td>\n",
              "      <td>9.528360e+17</td>\n",
              "      <td>صباح الخير 🍃</td>\n",
              "      <td>ar</td>\n",
              "      <td>7,43</td>\n",
              "      <td>Positive</td>\n",
              "    </tr>\n",
              "    <tr>\n",
              "      <th>13</th>\n",
              "      <td>14</td>\n",
              "      <td>9.528359e+17</td>\n",
              "      <td>السيسي يا جبان .. يا عميل الامريكان</td>\n",
              "      <td>ar</td>\n",
              "      <td>-6,29</td>\n",
              "      <td>Negative</td>\n",
              "    </tr>\n",
              "    <tr>\n",
              "      <th>17</th>\n",
              "      <td>18</td>\n",
              "      <td>9.528364e+17</td>\n",
              "      <td>عندما كان الذيوت فأر عند اسياده</td>\n",
              "      <td>ar</td>\n",
              "      <td>-5,71</td>\n",
              "      <td>Negative</td>\n",
              "    </tr>\n",
              "    <tr>\n",
              "      <th>26</th>\n",
              "      <td>27</td>\n",
              "      <td>9.528670e+17</td>\n",
              "      <td>واحنا مع فلسطين  ظالمة او مظلومة</td>\n",
              "      <td>ar</td>\n",
              "      <td>7,33</td>\n",
              "      <td>Positive</td>\n",
              "    </tr>\n",
              "    <tr>\n",
              "      <th>31</th>\n",
              "      <td>32</td>\n",
              "      <td>9.528661e+17</td>\n",
              "      <td>استغفر الله واتوب اليه</td>\n",
              "      <td>ar</td>\n",
              "      <td>3,00</td>\n",
              "      <td>Positive</td>\n",
              "    </tr>\n",
              "  </tbody>\n",
              "</table>\n",
              "</div>"
            ],
            "text/plain": [
              "    ID          Code  ... Polarity Polarity Class\n",
              "0    1  9.528348e+17  ...     3,57       Positive\n",
              "1    2  9.528348e+17  ...     7,29       Positive\n",
              "4    5  9.528341e+17  ...    -3,57       Negative\n",
              "5    6  9.528340e+17  ...    -1,40       Negative\n",
              "7    8  9.528336e+17  ...    -5,86       Negative\n",
              "12  13  9.528360e+17  ...     7,43       Positive\n",
              "13  14  9.528359e+17  ...    -6,29       Negative\n",
              "17  18  9.528364e+17  ...    -5,71       Negative\n",
              "26  27  9.528670e+17  ...     7,33       Positive\n",
              "31  32  9.528661e+17  ...     3,00       Positive\n",
              "\n",
              "[10 rows x 6 columns]"
            ]
          },
          "metadata": {
            "tags": []
          },
          "execution_count": 19
        }
      ]
    },
    {
      "cell_type": "code",
      "metadata": {
        "id": "3czcWb84ONFF"
      },
      "source": [
        "dataset=dataset.drop(['ID', 'Code', 'lang', 'Polarity'],axis=1)"
      ],
      "execution_count": null,
      "outputs": []
    },
    {
      "cell_type": "code",
      "metadata": {
        "id": "1SJx4btRQLxk",
        "colab": {
          "base_uri": "https://localhost:8080/",
          "height": 252
        },
        "outputId": "714b3f94-5251-4955-a2e9-855cc3b2e8a9"
      },
      "source": [
        "dataset.count"
      ],
      "execution_count": null,
      "outputs": [
        {
          "output_type": "execute_result",
          "data": {
            "text/plain": [
              "<bound method DataFrame.count of                                                    Post Polarity Class\n",
              "0                                                    تم       Positive\n",
              "1                                    صل الله عليه و سلم       Positive\n",
              "4     وقال: \" ... وعليهم *أَنْ يكونوا على يقظةٍ* مِن...       Negative\n",
              "5     🌴🌴 *إحذر من المندسين*🌴\\n\\n⬅ قال الشيخ العلامة ...       Negative\n",
              "7      إيه يا أخي عماد صحيح من قال عند الفتن تطيش ال...       Negative\n",
              "...                                                 ...            ...\n",
              "6847  الاستاذ فارس مسدور يصر على أن السيليكون فالي ه...        Neutral\n",
              "6848     مبرووووك جووو تستاااهل ها المحبه لان عم تعك...        Neutral\n",
              "6849                   ربحتي المعركة ... مازالت الحرب 😎        Neutral\n",
              "6850         كف كفين!! ومن يضربك كف كفين لما انت تغلط؟!        Neutral\n",
              "6851  افتح أي هاشتاغ ترند في الجزائر تحس روحك في جري...        Neutral\n",
              "\n",
              "[2948 rows x 2 columns]>"
            ]
          },
          "metadata": {
            "tags": []
          },
          "execution_count": 128
        }
      ]
    },
    {
      "cell_type": "code",
      "metadata": {
        "id": "aEiEbualQPb1"
      },
      "source": [
        "from __future__ import unicode_literals\n",
        "import re\n",
        "\n",
        "data = dataset"
      ],
      "execution_count": null,
      "outputs": []
    },
    {
      "cell_type": "code",
      "metadata": {
        "id": "fANbgzetSB-O",
        "colab": {
          "base_uri": "https://localhost:8080/",
          "height": 343
        },
        "outputId": "df6a0ae7-a76d-496b-f072-a87091f11c56"
      },
      "source": [
        "# enlever les lettres répétées\n",
        "for index, row in dataset.iterrows():\n",
        "  row['Post'] = re.sub(r'(.)\\1+', r'\\1', row['Post'])\n",
        "\n",
        "dataset.tail(10)"
      ],
      "execution_count": null,
      "outputs": [
        {
          "output_type": "execute_result",
          "data": {
            "text/html": [
              "<div>\n",
              "<style scoped>\n",
              "    .dataframe tbody tr th:only-of-type {\n",
              "        vertical-align: middle;\n",
              "    }\n",
              "\n",
              "    .dataframe tbody tr th {\n",
              "        vertical-align: top;\n",
              "    }\n",
              "\n",
              "    .dataframe thead th {\n",
              "        text-align: right;\n",
              "    }\n",
              "</style>\n",
              "<table border=\"1\" class=\"dataframe\">\n",
              "  <thead>\n",
              "    <tr style=\"text-align: right;\">\n",
              "      <th></th>\n",
              "      <th>Post</th>\n",
              "      <th>Polarity Class</th>\n",
              "    </tr>\n",
              "  </thead>\n",
              "  <tbody>\n",
              "    <tr>\n",
              "      <th>6842</th>\n",
              "      <td>تم</td>\n",
              "      <td>Neutral</td>\n",
              "    </tr>\n",
              "    <tr>\n",
              "      <th>6843</th>\n",
              "      <td>تم</td>\n",
              "      <td>Neutral</td>\n",
              "    </tr>\n",
              "    <tr>\n",
              "      <th>6844</th>\n",
              "      <td>#صباح_الخير \\nصباح الورد و الانوار من #ورقلة ن...</td>\n",
              "      <td>Neutral</td>\n",
              "    </tr>\n",
              "    <tr>\n",
              "      <th>6845</th>\n",
              "      <td>الهم اجعله خيرا وثبت اقدامنا على الحق امين</td>\n",
              "      <td>Neutral</td>\n",
              "    </tr>\n",
              "    <tr>\n",
              "      <th>6846</th>\n",
              "      <td>تم</td>\n",
              "      <td>Neutral</td>\n",
              "    </tr>\n",
              "    <tr>\n",
              "      <th>6847</th>\n",
              "      <td>الاستاذ فارس مسدور يصر على أن السيليكون فالي ه...</td>\n",
              "      <td>Neutral</td>\n",
              "    </tr>\n",
              "    <tr>\n",
              "      <th>6848</th>\n",
              "      <td>مبروك جو تستاهل ها المحبه لان عم تعكس محبتنا ...</td>\n",
              "      <td>Neutral</td>\n",
              "    </tr>\n",
              "    <tr>\n",
              "      <th>6849</th>\n",
              "      <td>ربحتي المعركة . مازالت الحرب 😎</td>\n",
              "      <td>Neutral</td>\n",
              "    </tr>\n",
              "    <tr>\n",
              "      <th>6850</th>\n",
              "      <td>كف كفين! ومن يضربك كف كفين لما انت تغلط؟!</td>\n",
              "      <td>Neutral</td>\n",
              "    </tr>\n",
              "    <tr>\n",
              "      <th>6851</th>\n",
              "      <td>افتح أي هاشتاغ ترند في الجزائر تحس روحك في جري...</td>\n",
              "      <td>Neutral</td>\n",
              "    </tr>\n",
              "  </tbody>\n",
              "</table>\n",
              "</div>"
            ],
            "text/plain": [
              "                                                   Post Polarity Class\n",
              "6842                                                 تم        Neutral\n",
              "6843                                                 تم        Neutral\n",
              "6844  #صباح_الخير \\nصباح الورد و الانوار من #ورقلة ن...        Neutral\n",
              "6845         الهم اجعله خيرا وثبت اقدامنا على الحق امين        Neutral\n",
              "6846                                                 تم        Neutral\n",
              "6847  الاستاذ فارس مسدور يصر على أن السيليكون فالي ه...        Neutral\n",
              "6848   مبروك جو تستاهل ها المحبه لان عم تعكس محبتنا ...        Neutral\n",
              "6849                     ربحتي المعركة . مازالت الحرب 😎        Neutral\n",
              "6850          كف كفين! ومن يضربك كف كفين لما انت تغلط؟!        Neutral\n",
              "6851  افتح أي هاشتاغ ترند في الجزائر تحس روحك في جري...        Neutral"
            ]
          },
          "metadata": {
            "tags": []
          },
          "execution_count": 23
        }
      ]
    },
    {
      "cell_type": "code",
      "metadata": {
        "id": "bHSI_XtPS2FY"
      },
      "source": [
        "import emoji"
      ],
      "execution_count": null,
      "outputs": []
    },
    {
      "cell_type": "code",
      "metadata": {
        "id": "TnAY1CRXWOOu"
      },
      "source": [
        "for index, row in dataset.iterrows():\n",
        "  row['Post'] = emoji.demojize(row['Post'], delimiters=(\"\", \"\"))"
      ],
      "execution_count": null,
      "outputs": []
    },
    {
      "cell_type": "code",
      "metadata": {
        "id": "bbmv1piYWPPW",
        "colab": {
          "base_uri": "https://localhost:8080/",
          "height": 787
        },
        "outputId": "f05231c5-44d7-49bb-f5b4-443c9cfaa31e"
      },
      "source": [
        "dataset.head(25)"
      ],
      "execution_count": null,
      "outputs": [
        {
          "output_type": "execute_result",
          "data": {
            "text/html": [
              "<div>\n",
              "<style scoped>\n",
              "    .dataframe tbody tr th:only-of-type {\n",
              "        vertical-align: middle;\n",
              "    }\n",
              "\n",
              "    .dataframe tbody tr th {\n",
              "        vertical-align: top;\n",
              "    }\n",
              "\n",
              "    .dataframe thead th {\n",
              "        text-align: right;\n",
              "    }\n",
              "</style>\n",
              "<table border=\"1\" class=\"dataframe\">\n",
              "  <thead>\n",
              "    <tr style=\"text-align: right;\">\n",
              "      <th></th>\n",
              "      <th>Post</th>\n",
              "      <th>Polarity Class</th>\n",
              "    </tr>\n",
              "  </thead>\n",
              "  <tbody>\n",
              "    <tr>\n",
              "      <th>0</th>\n",
              "      <td>تم</td>\n",
              "      <td>Positive</td>\n",
              "    </tr>\n",
              "    <tr>\n",
              "      <th>1</th>\n",
              "      <td>صل اله عليه و سلم</td>\n",
              "      <td>Positive</td>\n",
              "    </tr>\n",
              "    <tr>\n",
              "      <th>4</th>\n",
              "      <td>وقال: \" . وعليهم *أَنْ يكونوا على يقظةٍ* مِنْ ...</td>\n",
              "      <td>Negative</td>\n",
              "    </tr>\n",
              "    <tr>\n",
              "      <th>5</th>\n",
              "      <td>palm_tree *إحذر من المندسين*palm_tree\\n\\nleft_...</td>\n",
              "      <td>Negative</td>\n",
              "    </tr>\n",
              "    <tr>\n",
              "      <th>7</th>\n",
              "      <td>إيه يا أخي عماد صحيح من قال عند الفتن تطيش ال...</td>\n",
              "      <td>Negative</td>\n",
              "    </tr>\n",
              "    <tr>\n",
              "      <th>12</th>\n",
              "      <td>صباح الخير leaf_fluttering_in_wind</td>\n",
              "      <td>Positive</td>\n",
              "    </tr>\n",
              "    <tr>\n",
              "      <th>13</th>\n",
              "      <td>السيسي يا جبان . يا عميل الامريكان</td>\n",
              "      <td>Negative</td>\n",
              "    </tr>\n",
              "    <tr>\n",
              "      <th>17</th>\n",
              "      <td>عندما كان الذيوت فأر عند اسياده</td>\n",
              "      <td>Negative</td>\n",
              "    </tr>\n",
              "    <tr>\n",
              "      <th>26</th>\n",
              "      <td>واحنا مع فلسطين ظالمة او مظلومة</td>\n",
              "      <td>Positive</td>\n",
              "    </tr>\n",
              "    <tr>\n",
              "      <th>31</th>\n",
              "      <td>استغفر اله واتوب اليه</td>\n",
              "      <td>Positive</td>\n",
              "    </tr>\n",
              "    <tr>\n",
              "      <th>34</th>\n",
              "      <td>قالت لي مرة بأن اله بنى سوراً حول قلبها فلم تع...</td>\n",
              "      <td>Positive</td>\n",
              "    </tr>\n",
              "    <tr>\n",
              "      <th>35</th>\n",
              "      <td>ايدير يعني يحيى</td>\n",
              "      <td>Positive</td>\n",
              "    </tr>\n",
              "    <tr>\n",
              "      <th>36</th>\n",
              "      <td>نعم تعربنا ولكن هذا الشيء راح دوكا الناس توعا...</td>\n",
              "      <td>Positive</td>\n",
              "    </tr>\n",
              "    <tr>\n",
              "      <th>41</th>\n",
              "      <td>unamused_face محبوش يزوجوني loudly_crying_fac...</td>\n",
              "      <td>Negative</td>\n",
              "    </tr>\n",
              "    <tr>\n",
              "      <th>43</th>\n",
              "      <td>هنا خليتيها حرام عليك persevering_face \\nجوعت...</td>\n",
              "      <td>Negative</td>\n",
              "    </tr>\n",
              "    <tr>\n",
              "      <th>45</th>\n",
              "      <td>سلام لصحراء الجزائر التي تغير ملامحها بثلوج ت...</td>\n",
              "      <td>Positive</td>\n",
              "    </tr>\n",
              "    <tr>\n",
              "      <th>46</th>\n",
              "      <td>صح واله رجع ذوق كارطون \\nشكل يشهي وذوق صامط</td>\n",
              "      <td>Negative</td>\n",
              "    </tr>\n",
              "    <tr>\n",
              "      <th>48</th>\n",
              "      <td>يا عمري توالمك لحشمةsmiling_face_with_heart-eyes</td>\n",
              "      <td>Positive</td>\n",
              "    </tr>\n",
              "    <tr>\n",
              "      <th>53</th>\n",
              "      <td>#fazilethanımvekızları احمدو ربكم على نعمة الط...</td>\n",
              "      <td>Positive</td>\n",
              "    </tr>\n",
              "    <tr>\n",
              "      <th>54</th>\n",
              "      <td>#بالعربي#جمال_بلادي #الجزائر #القارة #الجزائر ...</td>\n",
              "      <td>Positive</td>\n",
              "    </tr>\n",
              "    <tr>\n",
              "      <th>55</th>\n",
              "      <td>يشعر بالسعادة مع ياسمين</td>\n",
              "      <td>Positive</td>\n",
              "    </tr>\n",
              "    <tr>\n",
              "      <th>68</th>\n",
              "      <td>ه خسارة عليك انا ونتي وفقط smiling_face_with_...</td>\n",
              "      <td>Positive</td>\n",
              "    </tr>\n",
              "    <tr>\n",
              "      <th>69</th>\n",
              "      <td>فوق</td>\n",
              "      <td>Positive</td>\n",
              "    </tr>\n",
              "    <tr>\n",
              "      <th>71</th>\n",
              "      <td>الجمال ليس جمال الجسد بل جمال الروح والأخلاق.o...</td>\n",
              "      <td>Positive</td>\n",
              "    </tr>\n",
              "    <tr>\n",
              "      <th>72</th>\n",
              "      <td>أبدا call_me_hand_medium-light_skin_tone</td>\n",
              "      <td>Negative</td>\n",
              "    </tr>\n",
              "  </tbody>\n",
              "</table>\n",
              "</div>"
            ],
            "text/plain": [
              "                                                 Post Polarity Class\n",
              "0                                                  تم       Positive\n",
              "1                                   صل اله عليه و سلم       Positive\n",
              "4   وقال: \" . وعليهم *أَنْ يكونوا على يقظةٍ* مِنْ ...       Negative\n",
              "5   palm_tree *إحذر من المندسين*palm_tree\\n\\nleft_...       Negative\n",
              "7    إيه يا أخي عماد صحيح من قال عند الفتن تطيش ال...       Negative\n",
              "12                صباح الخير leaf_fluttering_in_wind        Positive\n",
              "13                 السيسي يا جبان . يا عميل الامريكان       Negative\n",
              "17                   عندما كان الذيوت فأر عند اسياده        Negative\n",
              "26                    واحنا مع فلسطين ظالمة او مظلومة       Positive\n",
              "31                              استغفر اله واتوب اليه       Positive\n",
              "34  قالت لي مرة بأن اله بنى سوراً حول قلبها فلم تع...       Positive\n",
              "35                                    ايدير يعني يحيى       Positive\n",
              "36   نعم تعربنا ولكن هذا الشيء راح دوكا الناس توعا...       Positive\n",
              "41   unamused_face محبوش يزوجوني loudly_crying_fac...       Negative\n",
              "43   هنا خليتيها حرام عليك persevering_face \\nجوعت...       Negative\n",
              "45   سلام لصحراء الجزائر التي تغير ملامحها بثلوج ت...       Positive\n",
              "46        صح واله رجع ذوق كارطون \\nشكل يشهي وذوق صامط       Negative\n",
              "48   يا عمري توالمك لحشمةsmiling_face_with_heart-eyes       Positive\n",
              "53  #fazilethanımvekızları احمدو ربكم على نعمة الط...       Positive\n",
              "54  #بالعربي#جمال_بلادي #الجزائر #القارة #الجزائر ...       Positive\n",
              "55                            يشعر بالسعادة مع ياسمين       Positive\n",
              "68   ه خسارة عليك انا ونتي وفقط smiling_face_with_...       Positive\n",
              "69                                               فوق        Positive\n",
              "71  الجمال ليس جمال الجسد بل جمال الروح والأخلاق.o...       Positive\n",
              "72           أبدا call_me_hand_medium-light_skin_tone       Negative"
            ]
          },
          "metadata": {
            "tags": []
          },
          "execution_count": 136
        }
      ]
    },
    {
      "cell_type": "code",
      "metadata": {
        "id": "s7K5iBQwWiUr"
      },
      "source": [
        "\n",
        "dataset['Post'] = dataset['Post'].str.replace('_', ' ', case=False)"
      ],
      "execution_count": null,
      "outputs": []
    },
    {
      "cell_type": "code",
      "metadata": {
        "id": "yVElMLQ5XK0b",
        "colab": {
          "base_uri": "https://localhost:8080/",
          "height": 787
        },
        "outputId": "78fb66c5-b05f-475d-d1d9-dbe57710dd81"
      },
      "source": [
        "dataset.head(25)"
      ],
      "execution_count": null,
      "outputs": [
        {
          "output_type": "execute_result",
          "data": {
            "text/html": [
              "<div>\n",
              "<style scoped>\n",
              "    .dataframe tbody tr th:only-of-type {\n",
              "        vertical-align: middle;\n",
              "    }\n",
              "\n",
              "    .dataframe tbody tr th {\n",
              "        vertical-align: top;\n",
              "    }\n",
              "\n",
              "    .dataframe thead th {\n",
              "        text-align: right;\n",
              "    }\n",
              "</style>\n",
              "<table border=\"1\" class=\"dataframe\">\n",
              "  <thead>\n",
              "    <tr style=\"text-align: right;\">\n",
              "      <th></th>\n",
              "      <th>Post</th>\n",
              "      <th>Polarity Class</th>\n",
              "    </tr>\n",
              "  </thead>\n",
              "  <tbody>\n",
              "    <tr>\n",
              "      <th>0</th>\n",
              "      <td>تم</td>\n",
              "      <td>Positive</td>\n",
              "    </tr>\n",
              "    <tr>\n",
              "      <th>1</th>\n",
              "      <td>صل اله عليه و سلم</td>\n",
              "      <td>Positive</td>\n",
              "    </tr>\n",
              "    <tr>\n",
              "      <th>4</th>\n",
              "      <td>وقال: \" . وعليهم *أَنْ يكونوا على يقظةٍ* مِنْ ...</td>\n",
              "      <td>Negative</td>\n",
              "    </tr>\n",
              "    <tr>\n",
              "      <th>5</th>\n",
              "      <td>palm tree *إحذر من المندسين*palm tree\\n\\nleft ...</td>\n",
              "      <td>Negative</td>\n",
              "    </tr>\n",
              "    <tr>\n",
              "      <th>7</th>\n",
              "      <td>إيه يا أخي عماد صحيح من قال عند الفتن تطيش ال...</td>\n",
              "      <td>Negative</td>\n",
              "    </tr>\n",
              "    <tr>\n",
              "      <th>12</th>\n",
              "      <td>صباح الخير leaf fluttering in wind</td>\n",
              "      <td>Positive</td>\n",
              "    </tr>\n",
              "    <tr>\n",
              "      <th>13</th>\n",
              "      <td>السيسي يا جبان . يا عميل الامريكان</td>\n",
              "      <td>Negative</td>\n",
              "    </tr>\n",
              "    <tr>\n",
              "      <th>17</th>\n",
              "      <td>عندما كان الذيوت فأر عند اسياده</td>\n",
              "      <td>Negative</td>\n",
              "    </tr>\n",
              "    <tr>\n",
              "      <th>26</th>\n",
              "      <td>واحنا مع فلسطين ظالمة او مظلومة</td>\n",
              "      <td>Positive</td>\n",
              "    </tr>\n",
              "    <tr>\n",
              "      <th>31</th>\n",
              "      <td>استغفر اله واتوب اليه</td>\n",
              "      <td>Positive</td>\n",
              "    </tr>\n",
              "    <tr>\n",
              "      <th>34</th>\n",
              "      <td>قالت لي مرة بأن اله بنى سوراً حول قلبها فلم تع...</td>\n",
              "      <td>Positive</td>\n",
              "    </tr>\n",
              "    <tr>\n",
              "      <th>35</th>\n",
              "      <td>ايدير يعني يحيى</td>\n",
              "      <td>Positive</td>\n",
              "    </tr>\n",
              "    <tr>\n",
              "      <th>36</th>\n",
              "      <td>نعم تعربنا ولكن هذا الشيء راح دوكا الناس توعا...</td>\n",
              "      <td>Positive</td>\n",
              "    </tr>\n",
              "    <tr>\n",
              "      <th>41</th>\n",
              "      <td>unamused face محبوش يزوجوني loudly crying fac...</td>\n",
              "      <td>Negative</td>\n",
              "    </tr>\n",
              "    <tr>\n",
              "      <th>43</th>\n",
              "      <td>هنا خليتيها حرام عليك persevering face \\nجوعت...</td>\n",
              "      <td>Negative</td>\n",
              "    </tr>\n",
              "    <tr>\n",
              "      <th>45</th>\n",
              "      <td>سلام لصحراء الجزائر التي تغير ملامحها بثلوج ت...</td>\n",
              "      <td>Positive</td>\n",
              "    </tr>\n",
              "    <tr>\n",
              "      <th>46</th>\n",
              "      <td>صح واله رجع ذوق كارطون \\nشكل يشهي وذوق صامط</td>\n",
              "      <td>Negative</td>\n",
              "    </tr>\n",
              "    <tr>\n",
              "      <th>48</th>\n",
              "      <td>يا عمري توالمك لحشمةsmiling face with heart-eyes</td>\n",
              "      <td>Positive</td>\n",
              "    </tr>\n",
              "    <tr>\n",
              "      <th>53</th>\n",
              "      <td>#fazilethanımvekızları احمدو ربكم على نعمة الط...</td>\n",
              "      <td>Positive</td>\n",
              "    </tr>\n",
              "    <tr>\n",
              "      <th>54</th>\n",
              "      <td>#بالعربي#جمال بلادي #الجزائر #القارة #الجزائر ...</td>\n",
              "      <td>Positive</td>\n",
              "    </tr>\n",
              "    <tr>\n",
              "      <th>55</th>\n",
              "      <td>يشعر بالسعادة مع ياسمين</td>\n",
              "      <td>Positive</td>\n",
              "    </tr>\n",
              "    <tr>\n",
              "      <th>68</th>\n",
              "      <td>ه خسارة عليك انا ونتي وفقط smiling face with ...</td>\n",
              "      <td>Positive</td>\n",
              "    </tr>\n",
              "    <tr>\n",
              "      <th>69</th>\n",
              "      <td>فوق</td>\n",
              "      <td>Positive</td>\n",
              "    </tr>\n",
              "    <tr>\n",
              "      <th>71</th>\n",
              "      <td>الجمال ليس جمال الجسد بل جمال الروح والأخلاق.o...</td>\n",
              "      <td>Positive</td>\n",
              "    </tr>\n",
              "    <tr>\n",
              "      <th>72</th>\n",
              "      <td>أبدا call me hand medium-light skin tone</td>\n",
              "      <td>Negative</td>\n",
              "    </tr>\n",
              "  </tbody>\n",
              "</table>\n",
              "</div>"
            ],
            "text/plain": [
              "                                                 Post Polarity Class\n",
              "0                                                  تم       Positive\n",
              "1                                   صل اله عليه و سلم       Positive\n",
              "4   وقال: \" . وعليهم *أَنْ يكونوا على يقظةٍ* مِنْ ...       Negative\n",
              "5   palm tree *إحذر من المندسين*palm tree\\n\\nleft ...       Negative\n",
              "7    إيه يا أخي عماد صحيح من قال عند الفتن تطيش ال...       Negative\n",
              "12                صباح الخير leaf fluttering in wind        Positive\n",
              "13                 السيسي يا جبان . يا عميل الامريكان       Negative\n",
              "17                   عندما كان الذيوت فأر عند اسياده        Negative\n",
              "26                    واحنا مع فلسطين ظالمة او مظلومة       Positive\n",
              "31                              استغفر اله واتوب اليه       Positive\n",
              "34  قالت لي مرة بأن اله بنى سوراً حول قلبها فلم تع...       Positive\n",
              "35                                    ايدير يعني يحيى       Positive\n",
              "36   نعم تعربنا ولكن هذا الشيء راح دوكا الناس توعا...       Positive\n",
              "41   unamused face محبوش يزوجوني loudly crying fac...       Negative\n",
              "43   هنا خليتيها حرام عليك persevering face \\nجوعت...       Negative\n",
              "45   سلام لصحراء الجزائر التي تغير ملامحها بثلوج ت...       Positive\n",
              "46        صح واله رجع ذوق كارطون \\nشكل يشهي وذوق صامط       Negative\n",
              "48   يا عمري توالمك لحشمةsmiling face with heart-eyes       Positive\n",
              "53  #fazilethanımvekızları احمدو ربكم على نعمة الط...       Positive\n",
              "54  #بالعربي#جمال بلادي #الجزائر #القارة #الجزائر ...       Positive\n",
              "55                            يشعر بالسعادة مع ياسمين       Positive\n",
              "68   ه خسارة عليك انا ونتي وفقط smiling face with ...       Positive\n",
              "69                                               فوق        Positive\n",
              "71  الجمال ليس جمال الجسد بل جمال الروح والأخلاق.o...       Positive\n",
              "72           أبدا call me hand medium-light skin tone       Negative"
            ]
          },
          "metadata": {
            "tags": []
          },
          "execution_count": 170
        }
      ]
    },
    {
      "cell_type": "code",
      "metadata": {
        "id": "B30tsuFmfP-X"
      },
      "source": [
        "for index, row in dataset.iterrows():\n",
        "  row['Post'] = re.sub(r'\\W', ' ', str(row['Post']))"
      ],
      "execution_count": null,
      "outputs": []
    },
    {
      "cell_type": "code",
      "metadata": {
        "id": "loBysRpKfd4y",
        "colab": {
          "base_uri": "https://localhost:8080/",
          "height": 195
        },
        "outputId": "f7b6a1c9-fdda-4897-df47-50a87676eb90"
      },
      "source": [
        "dataset.head()"
      ],
      "execution_count": null,
      "outputs": [
        {
          "output_type": "execute_result",
          "data": {
            "text/html": [
              "<div>\n",
              "<style scoped>\n",
              "    .dataframe tbody tr th:only-of-type {\n",
              "        vertical-align: middle;\n",
              "    }\n",
              "\n",
              "    .dataframe tbody tr th {\n",
              "        vertical-align: top;\n",
              "    }\n",
              "\n",
              "    .dataframe thead th {\n",
              "        text-align: right;\n",
              "    }\n",
              "</style>\n",
              "<table border=\"1\" class=\"dataframe\">\n",
              "  <thead>\n",
              "    <tr style=\"text-align: right;\">\n",
              "      <th></th>\n",
              "      <th>Post</th>\n",
              "      <th>Polarity Class</th>\n",
              "    </tr>\n",
              "  </thead>\n",
              "  <tbody>\n",
              "    <tr>\n",
              "      <th>0</th>\n",
              "      <td>تم</td>\n",
              "      <td>Positive</td>\n",
              "    </tr>\n",
              "    <tr>\n",
              "      <th>1</th>\n",
              "      <td>صل اله عليه و سلم</td>\n",
              "      <td>Positive</td>\n",
              "    </tr>\n",
              "    <tr>\n",
              "      <th>4</th>\n",
              "      <td>وقال      وعليهم  أ ن  يكونوا على يقظة   م ن  ...</td>\n",
              "      <td>Negative</td>\n",
              "    </tr>\n",
              "    <tr>\n",
              "      <th>5</th>\n",
              "      <td>palm tree  إحذر من المندسين palm tree  left ar...</td>\n",
              "      <td>Negative</td>\n",
              "    </tr>\n",
              "    <tr>\n",
              "      <th>7</th>\n",
              "      <td>إيه يا أخي عماد صحيح من قال عند الفتن تطيش ال...</td>\n",
              "      <td>Negative</td>\n",
              "    </tr>\n",
              "  </tbody>\n",
              "</table>\n",
              "</div>"
            ],
            "text/plain": [
              "                                                Post Polarity Class\n",
              "0                                                 تم       Positive\n",
              "1                                  صل اله عليه و سلم       Positive\n",
              "4  وقال      وعليهم  أ ن  يكونوا على يقظة   م ن  ...       Negative\n",
              "5  palm tree  إحذر من المندسين palm tree  left ar...       Negative\n",
              "7   إيه يا أخي عماد صحيح من قال عند الفتن تطيش ال...       Negative"
            ]
          },
          "metadata": {
            "tags": []
          },
          "execution_count": 172
        }
      ]
    },
    {
      "cell_type": "code",
      "metadata": {
        "id": "b4qv0YtPWgPW"
      },
      "source": [
        "# diviser les colonnes \n",
        "\n",
        "features = dataset['Post']\n",
        "labels = dataset['Polarity Class']"
      ],
      "execution_count": null,
      "outputs": []
    },
    {
      "cell_type": "code",
      "metadata": {
        "id": "X-ygYfk1aln1",
        "colab": {
          "base_uri": "https://localhost:8080/",
          "height": 118
        },
        "outputId": "be13c898-6207-4714-a220-46fe3252ba9b"
      },
      "source": [
        "features.head()"
      ],
      "execution_count": null,
      "outputs": [
        {
          "output_type": "execute_result",
          "data": {
            "text/plain": [
              "0                                                   تم\n",
              "1                                    صل اله عليه و سلم\n",
              "4    وقال: \" . وعليهم *أَنْ يكونوا على يقظةٍ* مِنْ ...\n",
              "5    palm tree *إحذر من المندسين*palm tree\\n\\nleft ...\n",
              "7     إيه يا أخي عماد صحيح من قال عند الفتن تطيش ال...\n",
              "Name: Post, dtype: object"
            ]
          },
          "metadata": {
            "tags": []
          },
          "execution_count": 140
        }
      ]
    },
    {
      "cell_type": "code",
      "metadata": {
        "id": "fTYbhEwbanno",
        "colab": {
          "base_uri": "https://localhost:8080/",
          "height": 118
        },
        "outputId": "ceec2056-1da2-4959-e5f0-7f3144810958"
      },
      "source": [
        "labels.head()"
      ],
      "execution_count": null,
      "outputs": [
        {
          "output_type": "execute_result",
          "data": {
            "text/plain": [
              "0    Positive\n",
              "1    Positive\n",
              "4    Negative\n",
              "5    Negative\n",
              "7    Negative\n",
              "Name: Polarity Class, dtype: object"
            ]
          },
          "metadata": {
            "tags": []
          },
          "execution_count": 141
        }
      ]
    },
    {
      "cell_type": "code",
      "metadata": {
        "id": "9BiM3IR-aqCF",
        "colab": {
          "base_uri": "https://localhost:8080/",
          "height": 67
        },
        "outputId": "d9ca26ed-2ab2-46dc-ca23-ab41ea65b8fd"
      },
      "source": [
        "import nltk\n",
        "from sklearn.feature_extraction.text import TfidfVectorizer\n",
        "nltk.download(\"stopwords\")"
      ],
      "execution_count": null,
      "outputs": [
        {
          "output_type": "stream",
          "text": [
            "[nltk_data] Downloading package stopwords to /root/nltk_data...\n",
            "[nltk_data]   Unzipping corpora/stopwords.zip.\n"
          ],
          "name": "stdout"
        },
        {
          "output_type": "execute_result",
          "data": {
            "text/plain": [
              "True"
            ]
          },
          "metadata": {
            "tags": []
          },
          "execution_count": 27
        }
      ]
    },
    {
      "cell_type": "code",
      "metadata": {
        "id": "X4wKEveWboHB"
      },
      "source": [
        "arb_stopwords = set(nltk.corpus.stopwords.words(\"arabic\"))"
      ],
      "execution_count": null,
      "outputs": []
    },
    {
      "cell_type": "code",
      "metadata": {
        "id": "Cb61hZMxbzPh"
      },
      "source": [
        "vectorizer = TfidfVectorizer (max_features=2500, min_df=7, max_df=0.8, stop_words=nltk.corpus.stopwords.words('arabic'))\n",
        "features = vectorizer.fit_transform(features).toarray()"
      ],
      "execution_count": null,
      "outputs": []
    },
    {
      "cell_type": "code",
      "metadata": {
        "id": "yTBufpsDcJaT"
      },
      "source": [
        "from sklearn.model_selection import train_test_split\n",
        "\n",
        "X_train, X_test, y_train, y_test = train_test_split(features, labels, test_size=0.2, random_state=0)"
      ],
      "execution_count": null,
      "outputs": []
    },
    {
      "cell_type": "code",
      "metadata": {
        "id": "cjibqMC9cNF2",
        "colab": {
          "base_uri": "https://localhost:8080/",
          "height": 151
        },
        "outputId": "ce91591c-3ea3-45e3-e5c6-90356530be42"
      },
      "source": [
        "from sklearn.ensemble import RandomForestClassifier\n",
        "\n",
        "text_classifier = RandomForestClassifier(n_estimators=200, random_state=0)\n",
        "text_classifier.fit(X_train, y_train)"
      ],
      "execution_count": null,
      "outputs": [
        {
          "output_type": "execute_result",
          "data": {
            "text/plain": [
              "RandomForestClassifier(bootstrap=True, ccp_alpha=0.0, class_weight=None,\n",
              "                       criterion='gini', max_depth=None, max_features='auto',\n",
              "                       max_leaf_nodes=None, max_samples=None,\n",
              "                       min_impurity_decrease=0.0, min_impurity_split=None,\n",
              "                       min_samples_leaf=1, min_samples_split=2,\n",
              "                       min_weight_fraction_leaf=0.0, n_estimators=200,\n",
              "                       n_jobs=None, oob_score=False, random_state=0, verbose=0,\n",
              "                       warm_start=False)"
            ]
          },
          "metadata": {
            "tags": []
          },
          "execution_count": 176
        }
      ]
    },
    {
      "cell_type": "code",
      "metadata": {
        "id": "wHd6RayGcW-8"
      },
      "source": [
        "predictions = text_classifier.predict(X_test)"
      ],
      "execution_count": null,
      "outputs": []
    },
    {
      "cell_type": "code",
      "metadata": {
        "id": "wTLncobwcaYl",
        "colab": {
          "base_uri": "https://localhost:8080/",
          "height": 34
        },
        "outputId": "ae6ad611-fa48-4e05-b4fa-43d34a2ab110"
      },
      "source": [
        "from sklearn.metrics import accuracy_score\n",
        "\n",
        "print(accuracy_score(y_test, predictions))"
      ],
      "execution_count": null,
      "outputs": [
        {
          "output_type": "stream",
          "text": [
            "0.5610169491525424\n"
          ],
          "name": "stdout"
        }
      ]
    },
    {
      "cell_type": "code",
      "metadata": {
        "id": "hQ9WDZU9cwBr"
      },
      "source": [
        "# essayer svm\n",
        "\n",
        "from sklearn import svm"
      ],
      "execution_count": null,
      "outputs": []
    },
    {
      "cell_type": "code",
      "metadata": {
        "id": "8vyzWL-weZvj",
        "colab": {
          "base_uri": "https://localhost:8080/",
          "height": 84
        },
        "outputId": "0a445e6b-3aa8-4a3e-96f7-20943017fd82"
      },
      "source": [
        "algosvm = svm.SVC(kernel='linear')\n",
        "algosvm.fit(X_train, y_train)"
      ],
      "execution_count": null,
      "outputs": [
        {
          "output_type": "execute_result",
          "data": {
            "text/plain": [
              "SVC(C=1.0, break_ties=False, cache_size=200, class_weight=None, coef0=0.0,\n",
              "    decision_function_shape='ovr', degree=3, gamma='scale', kernel='linear',\n",
              "    max_iter=-1, probability=False, random_state=None, shrinking=True,\n",
              "    tol=0.001, verbose=False)"
            ]
          },
          "metadata": {
            "tags": []
          },
          "execution_count": 181
        }
      ]
    },
    {
      "cell_type": "code",
      "metadata": {
        "id": "wjZkwhJgekGf"
      },
      "source": [
        "predictions = algosvm.predict(X_test)"
      ],
      "execution_count": null,
      "outputs": []
    },
    {
      "cell_type": "code",
      "metadata": {
        "id": "l2JBroz3etNr",
        "colab": {
          "base_uri": "https://localhost:8080/",
          "height": 34
        },
        "outputId": "885d675a-3652-4e5f-dc63-9f646b7f5a6e"
      },
      "source": [
        "print(accuracy_score(y_test, predictions))"
      ],
      "execution_count": null,
      "outputs": [
        {
          "output_type": "stream",
          "text": [
            "0.5898305084745763\n"
          ],
          "name": "stdout"
        }
      ]
    },
    {
      "cell_type": "code",
      "metadata": {
        "id": "NJezsuRfFHP_",
        "colab": {
          "base_uri": "https://localhost:8080/",
          "height": 34
        },
        "outputId": "869a4196-0882-4c6f-ba7c-1e5813a3d4b0"
      },
      "source": [
        "from sklearn.linear_model import LogisticRegression\n",
        "from sklearn.metrics import accuracy_score\n",
        "\n",
        "log_model = LogisticRegression()\n",
        "\n",
        "log_model = log_model.fit(X_train, y_train)\n",
        "\n",
        "y_pred = log_model.predict(X_test)\n",
        "\n",
        "print(accuracy_score(y_test, y_pred))"
      ],
      "execution_count": null,
      "outputs": [
        {
          "output_type": "stream",
          "text": [
            "0.559322033898305\n"
          ],
          "name": "stdout"
        }
      ]
    },
    {
      "cell_type": "code",
      "metadata": {
        "id": "Cbzm4G60tvLo"
      },
      "source": [
        "tab = np.array(['الحال شباب اليوم'])\n",
        "\n",
        "data2 = tab.reshape(1, -1)"
      ],
      "execution_count": null,
      "outputs": []
    },
    {
      "cell_type": "code",
      "metadata": {
        "id": "_Tq7qfPitTcv",
        "colab": {
          "base_uri": "https://localhost:8080/",
          "height": 357
        },
        "outputId": "44cbad6a-4dc8-47c5-a299-09173899a50a"
      },
      "source": [
        "log_model.predict(data2)"
      ],
      "execution_count": null,
      "outputs": [
        {
          "output_type": "stream",
          "text": [
            "/usr/local/lib/python3.6/dist-packages/sklearn/linear_model/_base.py:268: FutureWarning: Beginning in version 0.22, arrays of bytes/strings will be converted to decimal numbers if dtype='numeric'. It is recommended that you convert the array to a float dtype before using it in scikit-learn, for example by using your_array = your_array.astype(np.float64).\n",
            "  X = check_array(X, accept_sparse='csr')\n"
          ],
          "name": "stderr"
        },
        {
          "output_type": "error",
          "ename": "ValueError",
          "evalue": "ignored",
          "traceback": [
            "\u001b[0;31m---------------------------------------------------------------------------\u001b[0m",
            "\u001b[0;31mValueError\u001b[0m                                Traceback (most recent call last)",
            "\u001b[0;32m<ipython-input-36-ae582f8b7dfb>\u001b[0m in \u001b[0;36m<module>\u001b[0;34m()\u001b[0m\n\u001b[0;32m----> 1\u001b[0;31m \u001b[0mlog_model\u001b[0m\u001b[0;34m.\u001b[0m\u001b[0mpredict\u001b[0m\u001b[0;34m(\u001b[0m\u001b[0mdata2\u001b[0m\u001b[0;34m)\u001b[0m\u001b[0;34m\u001b[0m\u001b[0;34m\u001b[0m\u001b[0m\n\u001b[0m",
            "\u001b[0;32m/usr/local/lib/python3.6/dist-packages/sklearn/linear_model/_base.py\u001b[0m in \u001b[0;36mpredict\u001b[0;34m(self, X)\u001b[0m\n\u001b[1;32m    291\u001b[0m             \u001b[0mPredicted\u001b[0m \u001b[0;32mclass\u001b[0m \u001b[0mlabel\u001b[0m \u001b[0mper\u001b[0m \u001b[0msample\u001b[0m\u001b[0;34m.\u001b[0m\u001b[0;34m\u001b[0m\u001b[0;34m\u001b[0m\u001b[0m\n\u001b[1;32m    292\u001b[0m         \"\"\"\n\u001b[0;32m--> 293\u001b[0;31m         \u001b[0mscores\u001b[0m \u001b[0;34m=\u001b[0m \u001b[0mself\u001b[0m\u001b[0;34m.\u001b[0m\u001b[0mdecision_function\u001b[0m\u001b[0;34m(\u001b[0m\u001b[0mX\u001b[0m\u001b[0;34m)\u001b[0m\u001b[0;34m\u001b[0m\u001b[0;34m\u001b[0m\u001b[0m\n\u001b[0m\u001b[1;32m    294\u001b[0m         \u001b[0;32mif\u001b[0m \u001b[0mlen\u001b[0m\u001b[0;34m(\u001b[0m\u001b[0mscores\u001b[0m\u001b[0;34m.\u001b[0m\u001b[0mshape\u001b[0m\u001b[0;34m)\u001b[0m \u001b[0;34m==\u001b[0m \u001b[0;36m1\u001b[0m\u001b[0;34m:\u001b[0m\u001b[0;34m\u001b[0m\u001b[0;34m\u001b[0m\u001b[0m\n\u001b[1;32m    295\u001b[0m             \u001b[0mindices\u001b[0m \u001b[0;34m=\u001b[0m \u001b[0;34m(\u001b[0m\u001b[0mscores\u001b[0m \u001b[0;34m>\u001b[0m \u001b[0;36m0\u001b[0m\u001b[0;34m)\u001b[0m\u001b[0;34m.\u001b[0m\u001b[0mastype\u001b[0m\u001b[0;34m(\u001b[0m\u001b[0mnp\u001b[0m\u001b[0;34m.\u001b[0m\u001b[0mint\u001b[0m\u001b[0;34m)\u001b[0m\u001b[0;34m\u001b[0m\u001b[0;34m\u001b[0m\u001b[0m\n",
            "\u001b[0;32m/usr/local/lib/python3.6/dist-packages/sklearn/linear_model/_base.py\u001b[0m in \u001b[0;36mdecision_function\u001b[0;34m(self, X)\u001b[0m\n\u001b[1;32m    271\u001b[0m         \u001b[0;32mif\u001b[0m \u001b[0mX\u001b[0m\u001b[0;34m.\u001b[0m\u001b[0mshape\u001b[0m\u001b[0;34m[\u001b[0m\u001b[0;36m1\u001b[0m\u001b[0;34m]\u001b[0m \u001b[0;34m!=\u001b[0m \u001b[0mn_features\u001b[0m\u001b[0;34m:\u001b[0m\u001b[0;34m\u001b[0m\u001b[0;34m\u001b[0m\u001b[0m\n\u001b[1;32m    272\u001b[0m             raise ValueError(\"X has %d features per sample; expecting %d\"\n\u001b[0;32m--> 273\u001b[0;31m                              % (X.shape[1], n_features))\n\u001b[0m\u001b[1;32m    274\u001b[0m \u001b[0;34m\u001b[0m\u001b[0m\n\u001b[1;32m    275\u001b[0m         scores = safe_sparse_dot(X, self.coef_.T,\n",
            "\u001b[0;31mValueError\u001b[0m: X has 1 features per sample; expecting 383"
          ]
        }
      ]
    },
    {
      "cell_type": "code",
      "metadata": {
        "id": "IZDM0i6Ntkzh"
      },
      "source": [
        ""
      ],
      "execution_count": null,
      "outputs": []
    },
    {
      "cell_type": "code",
      "metadata": {
        "id": "T4Kyp7GRexEp"
      },
      "source": [
        "from sklearn.feature_extraction.text import CountVectorizer"
      ],
      "execution_count": null,
      "outputs": []
    },
    {
      "cell_type": "code",
      "metadata": {
        "id": "zkw3M8KchF3z"
      },
      "source": [
        "vectorizer = CountVectorizer(\n",
        "    analyzer = 'word',\n",
        "    lowercase = False,\n",
        ")\n",
        "features_x = vectorizer.fit_transform(\n",
        "    features\n",
        ")\n",
        "features_nd = features_x.toarray()"
      ],
      "execution_count": null,
      "outputs": []
    },
    {
      "cell_type": "code",
      "metadata": {
        "id": "r_V_s5Tdhd5K"
      },
      "source": [
        "from sklearn.model_selection import train_test_split\n",
        "X_train, X_test, y_train, y_test  = train_test_split(features_nd, labels, train_size=0.80, random_state=1234)"
      ],
      "execution_count": null,
      "outputs": []
    },
    {
      "cell_type": "code",
      "metadata": {
        "id": "N63cyLkUhxrK"
      },
      "source": [
        "from sklearn.linear_model import LogisticRegression\n",
        "log_model = LogisticRegression()"
      ],
      "execution_count": null,
      "outputs": []
    },
    {
      "cell_type": "code",
      "metadata": {
        "id": "iUj-iaqAh1Ge"
      },
      "source": [
        "log_model = log_model.fit(X_train, y_train)"
      ],
      "execution_count": null,
      "outputs": []
    },
    {
      "cell_type": "code",
      "metadata": {
        "id": "4UNOeYMEh5pV"
      },
      "source": [
        "y_pred = log_model.predict(X_test)"
      ],
      "execution_count": null,
      "outputs": []
    },
    {
      "cell_type": "code",
      "metadata": {
        "id": "ZijZy28WiG-Q",
        "colab": {
          "base_uri": "https://localhost:8080/",
          "height": 34
        },
        "outputId": "bc456293-1600-4a87-c17f-3137a73fe09c"
      },
      "source": [
        "print(accuracy_score(y_test, y_pred))"
      ],
      "execution_count": null,
      "outputs": [
        {
          "output_type": "stream",
          "text": [
            "0.6135593220338983\n"
          ],
          "name": "stdout"
        }
      ]
    },
    {
      "cell_type": "code",
      "metadata": {
        "id": "Af68pSepiLXa",
        "colab": {
          "base_uri": "https://localhost:8080/",
          "height": 34
        },
        "outputId": "f58f8416-bc43-482a-b3e1-442ca2dc53fe"
      },
      "source": [
        "# SVm\n",
        "\n",
        "from sklearn import svm\n",
        "\n",
        "algosvm = svm.SVC(kernel='rbf')\n",
        "algosvm.fit(X_train, y_train)\n",
        "\n",
        "predictions = algosvm.predict(X_test)\n",
        "\n",
        "print(accuracy_score(y_test, predictions))"
      ],
      "execution_count": null,
      "outputs": [
        {
          "output_type": "stream",
          "text": [
            "0.6067796610169491\n"
          ],
          "name": "stdout"
        }
      ]
    },
    {
      "cell_type": "code",
      "metadata": {
        "id": "eKPUhZk8coxB",
        "colab": {
          "base_uri": "https://localhost:8080/",
          "height": 34
        },
        "outputId": "a6f9058b-8380-46bb-8b83-e5d0a5b68b44"
      },
      "source": [
        "# random forest regressor\n",
        "\n",
        "from sklearn.ensemble import RandomForestClassifier\n",
        "from sklearn.metrics import accuracy_score\n",
        "\n",
        "text_classifier = RandomForestClassifier(n_estimators=200, random_state=0)\n",
        "text_classifier.fit(X_train, y_train)\n",
        "\n",
        "predictions = text_classifier.predict(X_test)\n",
        "\n",
        "print(accuracy_score(y_test, predictions))"
      ],
      "execution_count": null,
      "outputs": [
        {
          "output_type": "stream",
          "text": [
            "0.5864406779661017\n"
          ],
          "name": "stdout"
        }
      ]
    },
    {
      "cell_type": "code",
      "metadata": {
        "id": "dd5Mf939bUA_"
      },
      "source": [
        "# vectorizer = CountVectorizer(\n",
        "#     analyzer = 'word',\n",
        "#     lowercase = False,\n",
        "# )\n",
        "# text = ['هادي عفسة شابة']\n",
        "\n",
        "# features = pd.DataFrame(text)\n",
        "\n",
        "# features = vectorizer.fit_transform(\n",
        "#     features\n",
        "# )\n",
        "\n",
        "#features_nd = features.toarray()\n",
        "print(text_classifier.predict('هادي عفسة شابة'))"
      ],
      "execution_count": null,
      "outputs": []
    },
    {
      "cell_type": "code",
      "metadata": {
        "id": "PA52g7LmOAfF"
      },
      "source": [
        ""
      ],
      "execution_count": null,
      "outputs": []
    },
    {
      "cell_type": "code",
      "metadata": {
        "id": "xBvLJsL1SCW2"
      },
      "source": [
        ""
      ],
      "execution_count": null,
      "outputs": []
    },
    {
      "cell_type": "code",
      "metadata": {
        "id": "zezD--79MgzN"
      },
      "source": [
        ""
      ],
      "execution_count": null,
      "outputs": []
    }
  ]
}